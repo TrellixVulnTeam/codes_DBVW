{
 "cells": [
  {
   "cell_type": "code",
   "execution_count": 19,
   "outputs": [
    {
     "name": "stdout",
     "output_type": "stream",
     "text": [
      "2\n",
      "3 1 4 2 5 "
     ]
    }
   ],
   "source": [
    "num = int(input())\n",
    "spheres = list(map(int, input().split(\" \")))\n",
    "\n",
    "divider = int((len(spheres)+1)/2)\n",
    "\n",
    "first = [ spheres[i] for i in range(len(spheres)-divider)]\n",
    "second = [ spheres[i] for i in range(len(spheres)-divider , len(spheres))]\n",
    "\n",
    "\n",
    "final = []\n",
    "count = 0\n",
    "while count != len(spheres):\n",
    "    if count < len(second):\n",
    "        final.append(second[count])\n",
    "    if count < len(first):\n",
    "        final.append(first[count])\n",
    "\n",
    "    count += 1\n",
    "\n",
    "knt = 0\n",
    "for i in range(1,len(final)-1):\n",
    "    if final[i-1] > final[i] and final[i+1] > final[i]:\n",
    "        knt += 1\n",
    "\n",
    "print(knt)\n",
    "for i in final:\n",
    "    print(i,end=\" \")"
   ],
   "metadata": {
    "collapsed": false,
    "pycharm": {
     "name": "#%%\n"
    }
   }
  },
  {
   "cell_type": "code",
   "execution_count": null,
   "outputs": [],
   "source": [],
   "metadata": {
    "collapsed": false,
    "pycharm": {
     "name": "#%%\n"
    }
   }
  },
  {
   "cell_type": "code",
   "execution_count": null,
   "outputs": [],
   "source": [],
   "metadata": {
    "collapsed": false,
    "pycharm": {
     "name": "#%%\n"
    }
   }
  }
 ],
 "metadata": {
  "kernelspec": {
   "display_name": "Python 3",
   "language": "python",
   "name": "python3"
  },
  "language_info": {
   "codemirror_mode": {
    "name": "ipython",
    "version": 2
   },
   "file_extension": ".py",
   "mimetype": "text/x-python",
   "name": "python",
   "nbconvert_exporter": "python",
   "pygments_lexer": "ipython2",
   "version": "2.7.6"
  }
 },
 "nbformat": 4,
 "nbformat_minor": 0
}